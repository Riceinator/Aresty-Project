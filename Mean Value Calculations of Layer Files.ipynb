{
 "cells": [
  {
   "cell_type": "code",
   "execution_count": 1,
   "metadata": {},
   "outputs": [],
   "source": [
    "#Andy Yang\n",
    "#Aresty Research \n",
    "#Importing all the Libraries\n",
    "\n",
    "import h5py\n",
    "import pandas as pd\n",
    "import numpy as np\n",
    "import os\n",
    "from glob import glob\n",
    "import seaborn as sns\n",
    "import matplotlib.pyplot as plt\n",
    "from matplotlib.pyplot import figure\n",
    "%matplotlib inline\n",
    "from pathlib import Path\n",
    "from datetime import datetime\n",
    "from collections import namedtuple\n",
    "import natsort\n",
    "from natsort import index_natsorted, order_by_index\n",
    "import tables\n",
    "import jupyterthemes"
   ]
  },
  {
   "cell_type": "code",
   "execution_count": 2,
   "metadata": {},
   "outputs": [],
   "source": [
    "!jt -t oceans16\n",
    "\n",
    "# jt -r\n",
    "#jt -r resets the theme of Jupyter Notebook"
   ]
  },
  {
   "cell_type": "code",
   "execution_count": 3,
   "metadata": {},
   "outputs": [
    {
     "name": "stdout",
     "output_type": "stream",
     "text": [
      "Files and directories in ' /Users/andyy/Aresty Research Project/DATASETchallenge ':\n",
      "['labels.txt', 'layer1.hdf5', 'layer10.hdf5', 'layer100.hdf5', 'layer101.hdf5', 'layer102.hdf5', 'layer103.hdf5', 'layer104.hdf5', 'layer105.hdf5', 'layer106.hdf5', 'layer107.hdf5', 'layer108.hdf5', 'layer109.hdf5', 'layer11.hdf5', 'layer110.hdf5', 'layer111.hdf5', 'layer112.hdf5', 'layer113.hdf5', 'layer114.hdf5', 'layer115.hdf5', 'layer116.hdf5', 'layer117.hdf5', 'layer118.hdf5', 'layer119.hdf5', 'layer12.hdf5', 'layer120.hdf5', 'layer121.hdf5', 'layer122.hdf5', 'layer123.hdf5', 'layer124.hdf5', 'layer125.hdf5', 'layer126.hdf5', 'layer127.hdf5', 'layer128.hdf5', 'layer129.hdf5', 'layer13.hdf5', 'layer130.hdf5', 'layer131.hdf5', 'layer132.hdf5', 'layer133.hdf5', 'layer134.hdf5', 'layer135.hdf5', 'layer136.hdf5', 'layer137.hdf5', 'layer138.hdf5', 'layer139.hdf5', 'layer14.hdf5', 'layer140.hdf5', 'layer141.hdf5', 'layer142.hdf5', 'layer143.hdf5', 'layer144.hdf5', 'layer145.hdf5', 'layer146.hdf5', 'layer147.hdf5', 'layer148.hdf5', 'layer149.hdf5', 'layer15.hdf5', 'layer150.hdf5', 'layer151.hdf5', 'layer152.hdf5', 'layer153.hdf5', 'layer154.hdf5', 'layer155.hdf5', 'layer156.hdf5', 'layer157.hdf5', 'layer158.hdf5', 'layer159.hdf5', 'layer16.hdf5', 'layer160.hdf5', 'layer161.hdf5', 'layer162.hdf5', 'layer163.hdf5', 'layer164.hdf5', 'layer165.hdf5', 'layer166.hdf5', 'layer167.hdf5', 'layer168.hdf5', 'layer169.hdf5', 'layer17.hdf5', 'layer170.hdf5', 'layer171.hdf5', 'layer172.hdf5', 'layer173.hdf5', 'layer174.hdf5', 'layer175.hdf5', 'layer176.hdf5', 'layer177.hdf5', 'layer178.hdf5', 'layer179.hdf5', 'layer18.hdf5', 'layer180.hdf5', 'layer181.hdf5', 'layer182.hdf5', 'layer183.hdf5', 'layer184.hdf5', 'layer185.hdf5', 'layer186.hdf5', 'layer187.hdf5', 'layer188.hdf5', 'layer189.hdf5', 'layer19.hdf5', 'layer190.hdf5', 'layer191.hdf5', 'layer192.hdf5', 'layer193.hdf5', 'layer194.hdf5', 'layer195.hdf5', 'layer196.hdf5', 'layer197.hdf5', 'layer198.hdf5', 'layer199.hdf5', 'layer2.hdf5', 'layer20.hdf5', 'layer200.hdf5', 'layer201.hdf5', 'layer202.hdf5', 'layer203.hdf5', 'layer204.hdf5', 'layer205.hdf5', 'layer206.hdf5', 'layer207.hdf5', 'layer208.hdf5', 'layer209.hdf5', 'layer21.hdf5', 'layer210.hdf5', 'layer211.hdf5', 'layer212.hdf5', 'layer213.hdf5', 'layer214.hdf5', 'layer215.hdf5', 'layer216.hdf5', 'layer217.hdf5', 'layer218.hdf5', 'layer219.hdf5', 'layer22.hdf5', 'layer220.hdf5', 'layer221.hdf5', 'layer222.hdf5', 'layer223.hdf5', 'layer224.hdf5', 'layer225.hdf5', 'layer226.hdf5', 'layer227.hdf5', 'layer228.hdf5', 'layer229.hdf5', 'layer23.hdf5', 'layer230.hdf5', 'layer231.hdf5', 'layer232.hdf5', 'layer233.hdf5', 'layer234.hdf5', 'layer235.hdf5', 'layer236.hdf5', 'layer237.hdf5', 'layer238.hdf5', 'layer239.hdf5', 'layer24.hdf5', 'layer240.hdf5', 'layer241.hdf5', 'layer242.hdf5', 'layer243.hdf5', 'layer244.hdf5', 'layer245.hdf5', 'layer246.hdf5', 'layer247.hdf5', 'layer248.hdf5', 'layer249.hdf5', 'layer25.hdf5', 'layer250.hdf5', 'layer251.hdf5', 'layer252.hdf5', 'layer253.hdf5', 'layer254.hdf5', 'layer255.hdf5', 'layer256.hdf5', 'layer257.hdf5', 'layer258.hdf5', 'layer259.hdf5', 'layer26.hdf5', 'layer260.hdf5', 'layer261.hdf5', 'layer262.hdf5', 'layer263.hdf5', 'layer264.hdf5', 'layer265.hdf5', 'layer266.hdf5', 'layer267.hdf5', 'layer268.hdf5', 'layer269.hdf5', 'layer27.hdf5', 'layer270.hdf5', 'layer271.hdf5', 'layer272.hdf5', 'layer273.hdf5', 'layer274.hdf5', 'layer275.hdf5', 'layer276.hdf5', 'layer277.hdf5', 'layer278.hdf5', 'layer279.hdf5', 'layer28.hdf5', 'layer280.hdf5', 'layer281.hdf5', 'layer282.hdf5', 'layer283.hdf5', 'layer284.hdf5', 'layer285.hdf5', 'layer286.hdf5', 'layer287.hdf5', 'layer288.hdf5', 'layer289.hdf5', 'layer29.hdf5', 'layer290.hdf5', 'layer291.hdf5', 'layer292.hdf5', 'layer293.hdf5', 'layer294.hdf5', 'layer295.hdf5', 'layer296.hdf5', 'layer297.hdf5', 'layer298.hdf5', 'layer299.hdf5', 'layer3.hdf5', 'layer30.hdf5', 'layer300.hdf5', 'layer301.hdf5', 'layer302.hdf5', 'layer303.hdf5', 'layer304.hdf5', 'layer305.hdf5', 'layer306.hdf5', 'layer307.hdf5', 'layer308.hdf5', 'layer309.hdf5', 'layer31.hdf5', 'layer310.hdf5', 'layer311.hdf5', 'layer312.hdf5', 'layer313.hdf5', 'layer314.hdf5', 'layer315.hdf5', 'layer316.hdf5', 'layer317.hdf5', 'layer318.hdf5', 'layer319.hdf5', 'layer32.hdf5', 'layer320.hdf5', 'layer321.hdf5', 'layer322.hdf5', 'layer323.hdf5', 'layer324.hdf5', 'layer325.hdf5', 'layer326.hdf5', 'layer327.hdf5', 'layer328.hdf5', 'layer329.hdf5', 'layer33.hdf5', 'layer330.hdf5', 'layer331.hdf5', 'layer332.hdf5', 'layer333.hdf5', 'layer334.hdf5', 'layer335.hdf5', 'layer336.hdf5', 'layer337.hdf5', 'layer338.hdf5', 'layer339.hdf5', 'layer34.hdf5', 'layer340.hdf5', 'layer341.hdf5', 'layer342.hdf5', 'layer343.hdf5', 'layer344.hdf5', 'layer345.hdf5', 'layer346.hdf5', 'layer347.hdf5', 'layer348.hdf5', 'layer349.hdf5', 'layer35.hdf5', 'layer350.hdf5', 'layer351.hdf5', 'layer352.hdf5', 'layer353.hdf5', 'layer354.hdf5', 'layer355.hdf5', 'layer356.hdf5', 'layer357.hdf5', 'layer358.hdf5', 'layer359.hdf5', 'layer36.hdf5', 'layer360.hdf5', 'layer361.hdf5', 'layer362.hdf5', 'layer363.hdf5', 'layer364.hdf5', 'layer365.hdf5', 'layer366.hdf5', 'layer367.hdf5', 'layer368.hdf5', 'layer369.hdf5', 'layer37.hdf5', 'layer370.hdf5', 'layer371.hdf5', 'layer372.hdf5', 'layer373.hdf5', 'layer374.hdf5', 'layer375.hdf5', 'layer376.hdf5', 'layer377.hdf5', 'layer378.hdf5', 'layer379.hdf5', 'layer38.hdf5', 'layer39.hdf5', 'layer4.hdf5', 'layer40.hdf5', 'layer41.hdf5', 'layer42.hdf5', 'layer43.hdf5', 'layer44.hdf5', 'layer45.hdf5', 'layer46.hdf5', 'layer47.hdf5', 'layer48.hdf5', 'layer49.hdf5', 'layer5.hdf5', 'layer50.hdf5', 'layer51.hdf5', 'layer52.hdf5', 'layer53.hdf5', 'layer54.hdf5', 'layer55.hdf5', 'layer56.hdf5', 'layer57.hdf5', 'layer58.hdf5', 'layer59.hdf5', 'layer6.hdf5', 'layer60.hdf5', 'layer61.hdf5', 'layer62.hdf5', 'layer63.hdf5', 'layer64.hdf5', 'layer65.hdf5', 'layer66.hdf5', 'layer67.hdf5', 'layer68.hdf5', 'layer69.hdf5', 'layer7.hdf5', 'layer70.hdf5', 'layer71.hdf5', 'layer72.hdf5', 'layer73.hdf5', 'layer74.hdf5', 'layer75.hdf5', 'layer76.hdf5', 'layer77.hdf5', 'layer78.hdf5', 'layer79.hdf5', 'layer8.hdf5', 'layer80.hdf5', 'layer81.hdf5', 'layer82.hdf5', 'layer83.hdf5', 'layer84.hdf5', 'layer85.hdf5', 'layer86.hdf5', 'layer87.hdf5', 'layer88.hdf5', 'layer89.hdf5', 'layer9.hdf5', 'layer90.hdf5', 'layer91.hdf5', 'layer92.hdf5', 'layer93.hdf5', 'layer94.hdf5', 'layer95.hdf5', 'layer96.hdf5', 'layer97.hdf5', 'layer98.hdf5', 'layer99.hdf5']\n"
     ]
    }
   ],
   "source": [
    "path = \"/Address/Aresty Research Project/DATASETchallenge\"\n",
    "dir_list = os.listdir(path)            \n",
    "print(\"Files and directories in '\",path,\"':\")\n",
    "print(dir_list) #List of all the .hdf5 files within a directory. "
   ]
  },
  {
   "cell_type": "code",
   "execution_count": 4,
   "metadata": {},
   "outputs": [],
   "source": [
    "File = namedtuple('File','name path size modified_date')"
   ]
  },
  {
   "cell_type": "code",
   "execution_count": 5,
   "metadata": {},
   "outputs": [],
   "source": [
    "files = []\n",
    "\n",
    "p = Path('/Address/Aresty Research Project/DATASETchallenge')\n",
    "\n",
    "for item in p.glob('**/*'):\n",
    "    if item.suffix in (['.hdf5']):\n",
    "        name = item.name\n",
    "        path = Path.resolve(item).parent\n",
    "        size = item.stat().st_size\n",
    "        modified = datetime.fromtimestamp(item.stat().st_mtime)\n",
    "        files.append(File(name, path, size, modified))"
   ]
  },
  {
   "cell_type": "code",
   "execution_count": 6,
   "metadata": {},
   "outputs": [],
   "source": [
    "df = pd.DataFrame(files)"
   ]
  },
  {
   "cell_type": "code",
   "execution_count": 7,
   "metadata": {},
   "outputs": [],
   "source": [
    "df = df.reindex(index=order_by_index(df.index, index_natsorted(df['name'], reverse=False)))"
   ]
  },
  {
   "cell_type": "code",
   "execution_count": 8,
   "metadata": {},
   "outputs": [
    {
     "data": {
      "text/html": [
       "<div>\n",
       "<style scoped>\n",
       "    .dataframe tbody tr th:only-of-type {\n",
       "        vertical-align: middle;\n",
       "    }\n",
       "\n",
       "    .dataframe tbody tr th {\n",
       "        vertical-align: top;\n",
       "    }\n",
       "\n",
       "    .dataframe thead th {\n",
       "        text-align: right;\n",
       "    }\n",
       "</style>\n",
       "<table border=\"1\" class=\"dataframe\">\n",
       "  <thead>\n",
       "    <tr style=\"text-align: right;\">\n",
       "      <th></th>\n",
       "      <th>path</th>\n",
       "      <th>size</th>\n",
       "      <th>modified_date</th>\n",
       "    </tr>\n",
       "    <tr>\n",
       "      <th>name</th>\n",
       "      <th></th>\n",
       "      <th></th>\n",
       "      <th></th>\n",
       "    </tr>\n",
       "  </thead>\n",
       "  <tbody>\n",
       "    <tr>\n",
       "      <th>layer1.hdf5</th>\n",
       "      <td>C:\\Users\\andyy\\Aresty Research Project\\DATASET...</td>\n",
       "      <td>1372372</td>\n",
       "      <td>2021-09-15 22:25:32</td>\n",
       "    </tr>\n",
       "    <tr>\n",
       "      <th>layer2.hdf5</th>\n",
       "      <td>C:\\Users\\andyy\\Aresty Research Project\\DATASET...</td>\n",
       "      <td>1364540</td>\n",
       "      <td>2021-09-15 22:25:36</td>\n",
       "    </tr>\n",
       "    <tr>\n",
       "      <th>layer3.hdf5</th>\n",
       "      <td>C:\\Users\\andyy\\Aresty Research Project\\DATASET...</td>\n",
       "      <td>1368500</td>\n",
       "      <td>2021-09-15 22:25:40</td>\n",
       "    </tr>\n",
       "    <tr>\n",
       "      <th>layer4.hdf5</th>\n",
       "      <td>C:\\Users\\andyy\\Aresty Research Project\\DATASET...</td>\n",
       "      <td>1353584</td>\n",
       "      <td>2021-09-15 22:25:42</td>\n",
       "    </tr>\n",
       "    <tr>\n",
       "      <th>layer5.hdf5</th>\n",
       "      <td>C:\\Users\\andyy\\Aresty Research Project\\DATASET...</td>\n",
       "      <td>1371008</td>\n",
       "      <td>2021-09-15 22:25:42</td>\n",
       "    </tr>\n",
       "    <tr>\n",
       "      <th>...</th>\n",
       "      <td>...</td>\n",
       "      <td>...</td>\n",
       "      <td>...</td>\n",
       "    </tr>\n",
       "    <tr>\n",
       "      <th>layer375.hdf5</th>\n",
       "      <td>C:\\Users\\andyy\\Aresty Research Project\\DATASET...</td>\n",
       "      <td>1373076</td>\n",
       "      <td>2021-09-15 22:25:42</td>\n",
       "    </tr>\n",
       "    <tr>\n",
       "      <th>layer376.hdf5</th>\n",
       "      <td>C:\\Users\\andyy\\Aresty Research Project\\DATASET...</td>\n",
       "      <td>1357060</td>\n",
       "      <td>2021-09-15 22:25:42</td>\n",
       "    </tr>\n",
       "    <tr>\n",
       "      <th>layer377.hdf5</th>\n",
       "      <td>C:\\Users\\andyy\\Aresty Research Project\\DATASET...</td>\n",
       "      <td>1371624</td>\n",
       "      <td>2021-09-15 22:25:42</td>\n",
       "    </tr>\n",
       "    <tr>\n",
       "      <th>layer378.hdf5</th>\n",
       "      <td>C:\\Users\\andyy\\Aresty Research Project\\DATASET...</td>\n",
       "      <td>1367532</td>\n",
       "      <td>2021-09-15 22:25:42</td>\n",
       "    </tr>\n",
       "    <tr>\n",
       "      <th>layer379.hdf5</th>\n",
       "      <td>C:\\Users\\andyy\\Aresty Research Project\\DATASET...</td>\n",
       "      <td>1356928</td>\n",
       "      <td>2021-09-15 22:25:42</td>\n",
       "    </tr>\n",
       "  </tbody>\n",
       "</table>\n",
       "<p>379 rows × 3 columns</p>\n",
       "</div>"
      ],
      "text/plain": [
       "                                                            path     size  \\\n",
       "name                                                                        \n",
       "layer1.hdf5    C:\\Users\\andyy\\Aresty Research Project\\DATASET...  1372372   \n",
       "layer2.hdf5    C:\\Users\\andyy\\Aresty Research Project\\DATASET...  1364540   \n",
       "layer3.hdf5    C:\\Users\\andyy\\Aresty Research Project\\DATASET...  1368500   \n",
       "layer4.hdf5    C:\\Users\\andyy\\Aresty Research Project\\DATASET...  1353584   \n",
       "layer5.hdf5    C:\\Users\\andyy\\Aresty Research Project\\DATASET...  1371008   \n",
       "...                                                          ...      ...   \n",
       "layer375.hdf5  C:\\Users\\andyy\\Aresty Research Project\\DATASET...  1373076   \n",
       "layer376.hdf5  C:\\Users\\andyy\\Aresty Research Project\\DATASET...  1357060   \n",
       "layer377.hdf5  C:\\Users\\andyy\\Aresty Research Project\\DATASET...  1371624   \n",
       "layer378.hdf5  C:\\Users\\andyy\\Aresty Research Project\\DATASET...  1367532   \n",
       "layer379.hdf5  C:\\Users\\andyy\\Aresty Research Project\\DATASET...  1356928   \n",
       "\n",
       "                    modified_date  \n",
       "name                               \n",
       "layer1.hdf5   2021-09-15 22:25:32  \n",
       "layer2.hdf5   2021-09-15 22:25:36  \n",
       "layer3.hdf5   2021-09-15 22:25:40  \n",
       "layer4.hdf5   2021-09-15 22:25:42  \n",
       "layer5.hdf5   2021-09-15 22:25:42  \n",
       "...                           ...  \n",
       "layer375.hdf5 2021-09-15 22:25:42  \n",
       "layer376.hdf5 2021-09-15 22:25:42  \n",
       "layer377.hdf5 2021-09-15 22:25:42  \n",
       "layer378.hdf5 2021-09-15 22:25:42  \n",
       "layer379.hdf5 2021-09-15 22:25:42  \n",
       "\n",
       "[379 rows x 3 columns]"
      ]
     },
     "execution_count": 8,
     "metadata": {},
     "output_type": "execute_result"
    }
   ],
   "source": [
    "df_info = df.set_index('name')\n",
    "df_info"
   ]
  },
  {
   "cell_type": "code",
   "execution_count": 9,
   "metadata": {},
   "outputs": [],
   "source": [
    "d_x = []\n",
    "\n",
    "for layer in p.glob('**/*'):\n",
    "    \n",
    "    if layer.suffix in (['.hdf5']):\n",
    "        \n",
    "        #print(layer)\n",
    "        \n",
    "        df = pd.DataFrame(np.array(h5py.File(layer, 'r')['OpenData']).transpose())\n",
    "        \n",
    "        x_mean = df[0].mean()\n",
    "        \n",
    "        d_x.append([layer,x_mean])\n",
    "            \n",
    "        #print(x_mean)\n",
    "        \n",
    "df1 = pd.DataFrame(data=d_x, columns=['file_name','mean value of x'])\n",
    "\n",
    "df1.to_csv('out_x.csv',index=False) #Produces a .csv file with file location and the mean values of x for each layer in the directory. "
   ]
  },
  {
   "cell_type": "code",
   "execution_count": 10,
   "metadata": {},
   "outputs": [
    {
     "data": {
      "text/html": [
       "<div>\n",
       "<style scoped>\n",
       "    .dataframe tbody tr th:only-of-type {\n",
       "        vertical-align: middle;\n",
       "    }\n",
       "\n",
       "    .dataframe tbody tr th {\n",
       "        vertical-align: top;\n",
       "    }\n",
       "\n",
       "    .dataframe thead th {\n",
       "        text-align: right;\n",
       "    }\n",
       "</style>\n",
       "<table border=\"1\" class=\"dataframe\">\n",
       "  <thead>\n",
       "    <tr style=\"text-align: right;\">\n",
       "      <th></th>\n",
       "      <th>mean value of x</th>\n",
       "    </tr>\n",
       "  </thead>\n",
       "  <tbody>\n",
       "    <tr>\n",
       "      <th>0</th>\n",
       "      <td>-23.114784</td>\n",
       "    </tr>\n",
       "    <tr>\n",
       "      <th>1</th>\n",
       "      <td>-23.101221</td>\n",
       "    </tr>\n",
       "    <tr>\n",
       "      <th>2</th>\n",
       "      <td>-23.112848</td>\n",
       "    </tr>\n",
       "    <tr>\n",
       "      <th>3</th>\n",
       "      <td>-23.100641</td>\n",
       "    </tr>\n",
       "    <tr>\n",
       "      <th>4</th>\n",
       "      <td>-23.125904</td>\n",
       "    </tr>\n",
       "    <tr>\n",
       "      <th>...</th>\n",
       "      <td>...</td>\n",
       "    </tr>\n",
       "    <tr>\n",
       "      <th>374</th>\n",
       "      <td>-23.098812</td>\n",
       "    </tr>\n",
       "    <tr>\n",
       "      <th>375</th>\n",
       "      <td>-23.113535</td>\n",
       "    </tr>\n",
       "    <tr>\n",
       "      <th>376</th>\n",
       "      <td>-23.100891</td>\n",
       "    </tr>\n",
       "    <tr>\n",
       "      <th>377</th>\n",
       "      <td>-23.112759</td>\n",
       "    </tr>\n",
       "    <tr>\n",
       "      <th>378</th>\n",
       "      <td>-23.144470</td>\n",
       "    </tr>\n",
       "  </tbody>\n",
       "</table>\n",
       "<p>379 rows × 1 columns</p>\n",
       "</div>"
      ],
      "text/plain": [
       "     mean value of x\n",
       "0         -23.114784\n",
       "1         -23.101221\n",
       "2         -23.112848\n",
       "3         -23.100641\n",
       "4         -23.125904\n",
       "..               ...\n",
       "374       -23.098812\n",
       "375       -23.113535\n",
       "376       -23.100891\n",
       "377       -23.112759\n",
       "378       -23.144470\n",
       "\n",
       "[379 rows x 1 columns]"
      ]
     },
     "execution_count": 10,
     "metadata": {},
     "output_type": "execute_result"
    }
   ],
   "source": [
    "df_x = pd.DataFrame(data = d_x, columns = ['file_location','mean value of x']) #Puts the means of the x_values into a Pandas DataFrame format. \n",
    "del df_x['file_location']\n",
    "df_x"
   ]
  },
  {
   "cell_type": "code",
   "execution_count": 11,
   "metadata": {},
   "outputs": [
    {
     "data": {
      "text/plain": [
       "mean value of x   -23.111506\n",
       "dtype: float64"
      ]
     },
     "execution_count": 11,
     "metadata": {},
     "output_type": "execute_result"
    }
   ],
   "source": [
    "df_x.mean() #The mean value of the mean values of each layer. "
   ]
  },
  {
   "cell_type": "code",
   "execution_count": 12,
   "metadata": {},
   "outputs": [
    {
     "data": {
      "image/png": "[encoded data removed]",
      "text/plain": [
       "<Figure size 432x288 with 1 Axes>"
      ]
     },
     "metadata": {
      "needs_background": "light"
     },
     "output_type": "display_data"
    }
   ],
   "source": [
    "sns.boxplot(x=df_x['mean value of x']);\n",
    "plt.title(\"Mean X-Position Box and Whisker Chart (in mm)\")\n",
    "plt.rcParams[\"figure.figsize\"] = (16,8)\n",
    "plt.show()"
   ]
  },
  {
   "cell_type": "code",
   "execution_count": 13,
   "metadata": {},
   "outputs": [],
   "source": [
    "d_y = []\n",
    "\n",
    "for layer in p.glob('**/*'):\n",
    "    \n",
    "    if layer.suffix in (['.hdf5']):\n",
    "        \n",
    "        #print(layer)\n",
    "        \n",
    "        df = pd.DataFrame(np.array(h5py.File(layer, 'r')['OpenData']).transpose())\n",
    "        \n",
    "        y_mean = df[1].mean()\n",
    "        \n",
    "        d_y.append([layer,y_mean])\n",
    "            \n",
    "        #print(x_mean)\n",
    "        \n",
    "df2 = pd.DataFrame(data=d_y, columns=['file_name','mean value of x'])\n",
    "\n",
    "df2.to_csv('out_y.csv',index=False) #Produces a .csv file with file location and the mean values of x for each layer in the directory. "
   ]
  },
  {
   "cell_type": "code",
   "execution_count": 14,
   "metadata": {},
   "outputs": [
    {
     "data": {
      "text/html": [
       "<div>\n",
       "<style scoped>\n",
       "    .dataframe tbody tr th:only-of-type {\n",
       "        vertical-align: middle;\n",
       "    }\n",
       "\n",
       "    .dataframe tbody tr th {\n",
       "        vertical-align: top;\n",
       "    }\n",
       "\n",
       "    .dataframe thead th {\n",
       "        text-align: right;\n",
       "    }\n",
       "</style>\n",
       "<table border=\"1\" class=\"dataframe\">\n",
       "  <thead>\n",
       "    <tr style=\"text-align: right;\">\n",
       "      <th></th>\n",
       "      <th>mean value of y</th>\n",
       "    </tr>\n",
       "  </thead>\n",
       "  <tbody>\n",
       "    <tr>\n",
       "      <th>0</th>\n",
       "      <td>-84.830269</td>\n",
       "    </tr>\n",
       "    <tr>\n",
       "      <th>1</th>\n",
       "      <td>-84.829369</td>\n",
       "    </tr>\n",
       "    <tr>\n",
       "      <th>2</th>\n",
       "      <td>-84.828369</td>\n",
       "    </tr>\n",
       "    <tr>\n",
       "      <th>3</th>\n",
       "      <td>-84.843018</td>\n",
       "    </tr>\n",
       "    <tr>\n",
       "      <th>4</th>\n",
       "      <td>-84.842278</td>\n",
       "    </tr>\n",
       "    <tr>\n",
       "      <th>...</th>\n",
       "      <td>...</td>\n",
       "    </tr>\n",
       "    <tr>\n",
       "      <th>374</th>\n",
       "      <td>-84.815605</td>\n",
       "    </tr>\n",
       "    <tr>\n",
       "      <th>375</th>\n",
       "      <td>-84.828545</td>\n",
       "    </tr>\n",
       "    <tr>\n",
       "      <th>376</th>\n",
       "      <td>-84.841385</td>\n",
       "    </tr>\n",
       "    <tr>\n",
       "      <th>377</th>\n",
       "      <td>-84.883942</td>\n",
       "    </tr>\n",
       "    <tr>\n",
       "      <th>378</th>\n",
       "      <td>-84.860741</td>\n",
       "    </tr>\n",
       "  </tbody>\n",
       "</table>\n",
       "<p>379 rows × 1 columns</p>\n",
       "</div>"
      ],
      "text/plain": [
       "     mean value of y\n",
       "0         -84.830269\n",
       "1         -84.829369\n",
       "2         -84.828369\n",
       "3         -84.843018\n",
       "4         -84.842278\n",
       "..               ...\n",
       "374       -84.815605\n",
       "375       -84.828545\n",
       "376       -84.841385\n",
       "377       -84.883942\n",
       "378       -84.860741\n",
       "\n",
       "[379 rows x 1 columns]"
      ]
     },
     "execution_count": 14,
     "metadata": {},
     "output_type": "execute_result"
    }
   ],
   "source": [
    "df_y = pd.DataFrame(data = d_y, columns = ['file_location','mean value of y']) #Puts the means of the x_values into a Pandas DataFrame format. \n",
    "del df_y['file_location']\n",
    "df_y"
   ]
  },
  {
   "cell_type": "code",
   "execution_count": 15,
   "metadata": {},
   "outputs": [
    {
     "data": {
      "text/plain": [
       "mean value of y   -84.828672\n",
       "dtype: float64"
      ]
     },
     "execution_count": 15,
     "metadata": {},
     "output_type": "execute_result"
    }
   ],
   "source": [
    "df_y.mean() #The mean value of the mean values of each layer. "
   ]
  },
  {
   "cell_type": "code",
   "execution_count": 16,
   "metadata": {},
   "outputs": [
    {
     "data": {
      "image/png": "[encoded data removed]",
      "text/plain": [
       "<Figure size 1152x576 with 1 Axes>"
      ]
     },
     "metadata": {
      "needs_background": "light"
     },
     "output_type": "display_data"
    }
   ],
   "source": [
    "sns.boxplot(x=df_y['mean value of y']);\n",
    "plt.title(\"Mean Y-Position Box and Whisker Chart (in mm)\")\n",
    "plt.rcParams[\"figure.figsize\"] = (16,8)\n",
    "plt.show()"
   ]
  },
  {
   "cell_type": "code",
   "execution_count": 17,
   "metadata": {},
   "outputs": [],
   "source": [
    "d_a = []\n",
    "\n",
    "for layer in p.glob('**/*'):\n",
    "    \n",
    "    if layer.suffix in (['.hdf5']):\n",
    "        \n",
    "        #print(layer)\n",
    "        \n",
    "        df = pd.DataFrame(np.array(h5py.File(layer, 'r')['OpenData']).transpose())\n",
    "        \n",
    "        a_mean = df[5].mean()\n",
    "        \n",
    "        d_a.append([layer,a_mean])\n",
    "            \n",
    "        #print(x_mean)\n",
    "        \n",
    "df3 = pd.DataFrame(data=d_a, columns=['file_name','mean value of Nominal Power'])\n",
    "\n",
    "df3.to_csv('out_nominal_power.csv',index=False) #Produces a .csv file with file location and the mean values of x for each layer in the directory. "
   ]
  },
  {
   "cell_type": "code",
   "execution_count": 18,
   "metadata": {},
   "outputs": [
    {
     "data": {
      "text/html": [
       "<div>\n",
       "<style scoped>\n",
       "    .dataframe tbody tr th:only-of-type {\n",
       "        vertical-align: middle;\n",
       "    }\n",
       "\n",
       "    .dataframe tbody tr th {\n",
       "        vertical-align: top;\n",
       "    }\n",
       "\n",
       "    .dataframe thead th {\n",
       "        text-align: right;\n",
       "    }\n",
       "</style>\n",
       "<table border=\"1\" class=\"dataframe\">\n",
       "  <thead>\n",
       "    <tr style=\"text-align: right;\">\n",
       "      <th></th>\n",
       "      <th>mean value of Laser Power Current</th>\n",
       "    </tr>\n",
       "  </thead>\n",
       "  <tbody>\n",
       "    <tr>\n",
       "      <th>0</th>\n",
       "      <td>4488.293945</td>\n",
       "    </tr>\n",
       "    <tr>\n",
       "      <th>1</th>\n",
       "      <td>4488.886230</td>\n",
       "    </tr>\n",
       "    <tr>\n",
       "      <th>2</th>\n",
       "      <td>4489.492188</td>\n",
       "    </tr>\n",
       "    <tr>\n",
       "      <th>3</th>\n",
       "      <td>4491.976074</td>\n",
       "    </tr>\n",
       "    <tr>\n",
       "      <th>4</th>\n",
       "      <td>4492.891602</td>\n",
       "    </tr>\n",
       "    <tr>\n",
       "      <th>...</th>\n",
       "      <td>...</td>\n",
       "    </tr>\n",
       "    <tr>\n",
       "      <th>374</th>\n",
       "      <td>4491.950684</td>\n",
       "    </tr>\n",
       "    <tr>\n",
       "      <th>375</th>\n",
       "      <td>4489.677734</td>\n",
       "    </tr>\n",
       "    <tr>\n",
       "      <th>376</th>\n",
       "      <td>4489.969238</td>\n",
       "    </tr>\n",
       "    <tr>\n",
       "      <th>377</th>\n",
       "      <td>4501.448242</td>\n",
       "    </tr>\n",
       "    <tr>\n",
       "      <th>378</th>\n",
       "      <td>4492.670410</td>\n",
       "    </tr>\n",
       "  </tbody>\n",
       "</table>\n",
       "<p>379 rows × 1 columns</p>\n",
       "</div>"
      ],
      "text/plain": [
       "     mean value of Laser Power Current\n",
       "0                          4488.293945\n",
       "1                          4488.886230\n",
       "2                          4489.492188\n",
       "3                          4491.976074\n",
       "4                          4492.891602\n",
       "..                                 ...\n",
       "374                        4491.950684\n",
       "375                        4489.677734\n",
       "376                        4489.969238\n",
       "377                        4501.448242\n",
       "378                        4492.670410\n",
       "\n",
       "[379 rows x 1 columns]"
      ]
     },
     "execution_count": 18,
     "metadata": {},
     "output_type": "execute_result"
    }
   ],
   "source": [
    "df_a = pd.DataFrame(data = d_a, columns = ['file_location','mean value of Laser Power Current']) #Puts the means of the x_values into a Pandas DataFrame format. \n",
    "del df_a['file_location']\n",
    "df_a"
   ]
  },
  {
   "cell_type": "code",
   "execution_count": 19,
   "metadata": {},
   "outputs": [
    {
     "data": {
      "text/plain": [
       "mean value of Laser Power Current    4486.194156\n",
       "dtype: float64"
      ]
     },
     "execution_count": 19,
     "metadata": {},
     "output_type": "execute_result"
    }
   ],
   "source": [
    "df_a.mean() #The mean value of the mean values of each layer. "
   ]
  },
  {
   "cell_type": "code",
   "execution_count": 20,
   "metadata": {},
   "outputs": [
    {
     "data": {
      "image/png": "[encoded data removed]",
      "text/plain": [
       "<Figure size 1152x576 with 1 Axes>"
      ]
     },
     "metadata": {
      "needs_background": "light"
     },
     "output_type": "display_data"
    }
   ],
   "source": [
    "sns.boxplot(x=df_a['mean value of Laser Power Current']);\n",
    "plt.title(\"Mean Laser Power Current (in W)\")\n",
    "plt.rcParams[\"figure.figsize\"] = (16,8)\n",
    "plt.show()"
   ]
  },
  {
   "cell_type": "code",
   "execution_count": 21,
   "metadata": {},
   "outputs": [],
   "source": [
    "d_b = []\n",
    "\n",
    "for layer in p.glob('**/*'):\n",
    "    \n",
    "    if layer.suffix in (['.hdf5']):\n",
    "        \n",
    "        #print(layer)\n",
    "        \n",
    "        df = pd.DataFrame(np.array(h5py.File(layer, 'r')['OpenData']).transpose())\n",
    "        \n",
    "        b_mean = df[6].mean()\n",
    "        \n",
    "        d_b.append([layer,b_mean])\n",
    "            \n",
    "        #print(x_mean)\n",
    "        \n",
    "df4 = pd.DataFrame(data=d_b, columns=['file_name','mean value of Signal_in_a_GaAs'])\n",
    "\n",
    "df4.to_csv('signal_in_GaAs.csv',index=False) #Produces a .csv file with file location and the mean values of x for each layer in the directory. "
   ]
  },
  {
   "cell_type": "code",
   "execution_count": 22,
   "metadata": {},
   "outputs": [
    {
     "data": {
      "text/html": [
       "<div>\n",
       "<style scoped>\n",
       "    .dataframe tbody tr th:only-of-type {\n",
       "        vertical-align: middle;\n",
       "    }\n",
       "\n",
       "    .dataframe tbody tr th {\n",
       "        vertical-align: top;\n",
       "    }\n",
       "\n",
       "    .dataframe thead th {\n",
       "        text-align: right;\n",
       "    }\n",
       "</style>\n",
       "<table border=\"1\" class=\"dataframe\">\n",
       "  <thead>\n",
       "    <tr style=\"text-align: right;\">\n",
       "      <th></th>\n",
       "      <th>mean value of Signal_in_a_GaAs</th>\n",
       "    </tr>\n",
       "  </thead>\n",
       "  <tbody>\n",
       "    <tr>\n",
       "      <th>0</th>\n",
       "      <td>1543.055908</td>\n",
       "    </tr>\n",
       "    <tr>\n",
       "      <th>1</th>\n",
       "      <td>1518.683350</td>\n",
       "    </tr>\n",
       "    <tr>\n",
       "      <th>2</th>\n",
       "      <td>1547.233643</td>\n",
       "    </tr>\n",
       "    <tr>\n",
       "      <th>3</th>\n",
       "      <td>1508.754517</td>\n",
       "    </tr>\n",
       "    <tr>\n",
       "      <th>4</th>\n",
       "      <td>1497.558228</td>\n",
       "    </tr>\n",
       "    <tr>\n",
       "      <th>...</th>\n",
       "      <td>...</td>\n",
       "    </tr>\n",
       "    <tr>\n",
       "      <th>374</th>\n",
       "      <td>1538.949707</td>\n",
       "    </tr>\n",
       "    <tr>\n",
       "      <th>375</th>\n",
       "      <td>1553.340698</td>\n",
       "    </tr>\n",
       "    <tr>\n",
       "      <th>376</th>\n",
       "      <td>1533.481934</td>\n",
       "    </tr>\n",
       "    <tr>\n",
       "      <th>377</th>\n",
       "      <td>1492.057373</td>\n",
       "    </tr>\n",
       "    <tr>\n",
       "      <th>378</th>\n",
       "      <td>1501.959351</td>\n",
       "    </tr>\n",
       "  </tbody>\n",
       "</table>\n",
       "<p>379 rows × 1 columns</p>\n",
       "</div>"
      ],
      "text/plain": [
       "     mean value of Signal_in_a_GaAs\n",
       "0                       1543.055908\n",
       "1                       1518.683350\n",
       "2                       1547.233643\n",
       "3                       1508.754517\n",
       "4                       1497.558228\n",
       "..                              ...\n",
       "374                     1538.949707\n",
       "375                     1553.340698\n",
       "376                     1533.481934\n",
       "377                     1492.057373\n",
       "378                     1501.959351\n",
       "\n",
       "[379 rows x 1 columns]"
      ]
     },
     "execution_count": 22,
     "metadata": {},
     "output_type": "execute_result"
    }
   ],
   "source": [
    "df_b = pd.DataFrame(data = d_b, columns = ['file_location','mean value of Signal_in_a_GaAs']) #Puts the means of the x_values into a Pandas DataFrame format. \n",
    "del df_b['file_location']\n",
    "df_b"
   ]
  },
  {
   "cell_type": "code",
   "execution_count": 23,
   "metadata": {},
   "outputs": [
    {
     "data": {
      "text/plain": [
       "mean value of Signal_in_a_GaAs    1514.834531\n",
       "dtype: float64"
      ]
     },
     "execution_count": 23,
     "metadata": {},
     "output_type": "execute_result"
    }
   ],
   "source": [
    "df_b.mean() #The mean value of the mean values of each layer. "
   ]
  },
  {
   "cell_type": "code",
   "execution_count": 24,
   "metadata": {},
   "outputs": [
    {
     "data": {
      "image/png": "[encoded data removed]",
      "text/plain": [
       "<Figure size 1152x576 with 1 Axes>"
      ]
     },
     "metadata": {
      "needs_background": "light"
     },
     "output_type": "display_data"
    }
   ],
   "source": [
    "sns.boxplot(x=df_b[\"mean value of Signal_in_a_GaAs\"]);\n",
    "#sns.set_theme(style=\"whitegrid\")\n",
    "plt.title(\"Mean value of Signal_in_a_GaAs\")\n",
    "plt.rcParams[\"figure.figsize\"] = (16,8)\n",
    "plt.show()"
   ]
  },
  {
   "cell_type": "markdown",
   "metadata": {},
   "source": [
    "## So far, the dataframes that change are labelled as such:\n",
    "## df_x = Mean values of x\n",
    "## df_y = Mean values of y\n",
    "## df_a = Mean values of Laser Power Current\n",
    "## df_b = Mean Values of SignalinaGaAS"
   ]
  },
  {
   "cell_type": "code",
   "execution_count": 25,
   "metadata": {},
   "outputs": [
    {
     "data": {
      "text/html": [
       "<div>\n",
       "<style scoped>\n",
       "    .dataframe tbody tr th:only-of-type {\n",
       "        vertical-align: middle;\n",
       "    }\n",
       "\n",
       "    .dataframe tbody tr th {\n",
       "        vertical-align: top;\n",
       "    }\n",
       "\n",
       "    .dataframe thead th {\n",
       "        text-align: right;\n",
       "    }\n",
       "</style>\n",
       "<table border=\"1\" class=\"dataframe\">\n",
       "  <thead>\n",
       "    <tr style=\"text-align: right;\">\n",
       "      <th></th>\n",
       "      <th>mean value of x</th>\n",
       "      <th>mean value of y</th>\n",
       "      <th>mean value of Laser Power Current</th>\n",
       "      <th>mean value of Signal_in_a_GaAs</th>\n",
       "    </tr>\n",
       "  </thead>\n",
       "  <tbody>\n",
       "    <tr>\n",
       "      <th>0</th>\n",
       "      <td>-23.114784</td>\n",
       "      <td>-84.830269</td>\n",
       "      <td>4488.293945</td>\n",
       "      <td>1543.055908</td>\n",
       "    </tr>\n",
       "    <tr>\n",
       "      <th>1</th>\n",
       "      <td>-23.101221</td>\n",
       "      <td>-84.829369</td>\n",
       "      <td>4488.886230</td>\n",
       "      <td>1518.683350</td>\n",
       "    </tr>\n",
       "    <tr>\n",
       "      <th>2</th>\n",
       "      <td>-23.112848</td>\n",
       "      <td>-84.828369</td>\n",
       "      <td>4489.492188</td>\n",
       "      <td>1547.233643</td>\n",
       "    </tr>\n",
       "    <tr>\n",
       "      <th>3</th>\n",
       "      <td>-23.100641</td>\n",
       "      <td>-84.843018</td>\n",
       "      <td>4491.976074</td>\n",
       "      <td>1508.754517</td>\n",
       "    </tr>\n",
       "    <tr>\n",
       "      <th>4</th>\n",
       "      <td>-23.125904</td>\n",
       "      <td>-84.842278</td>\n",
       "      <td>4492.891602</td>\n",
       "      <td>1497.558228</td>\n",
       "    </tr>\n",
       "    <tr>\n",
       "      <th>...</th>\n",
       "      <td>...</td>\n",
       "      <td>...</td>\n",
       "      <td>...</td>\n",
       "      <td>...</td>\n",
       "    </tr>\n",
       "    <tr>\n",
       "      <th>374</th>\n",
       "      <td>-23.098812</td>\n",
       "      <td>-84.815605</td>\n",
       "      <td>4491.950684</td>\n",
       "      <td>1538.949707</td>\n",
       "    </tr>\n",
       "    <tr>\n",
       "      <th>375</th>\n",
       "      <td>-23.113535</td>\n",
       "      <td>-84.828545</td>\n",
       "      <td>4489.677734</td>\n",
       "      <td>1553.340698</td>\n",
       "    </tr>\n",
       "    <tr>\n",
       "      <th>376</th>\n",
       "      <td>-23.100891</td>\n",
       "      <td>-84.841385</td>\n",
       "      <td>4489.969238</td>\n",
       "      <td>1533.481934</td>\n",
       "    </tr>\n",
       "    <tr>\n",
       "      <th>377</th>\n",
       "      <td>-23.112759</td>\n",
       "      <td>-84.883942</td>\n",
       "      <td>4501.448242</td>\n",
       "      <td>1492.057373</td>\n",
       "    </tr>\n",
       "    <tr>\n",
       "      <th>378</th>\n",
       "      <td>-23.144470</td>\n",
       "      <td>-84.860741</td>\n",
       "      <td>4492.670410</td>\n",
       "      <td>1501.959351</td>\n",
       "    </tr>\n",
       "  </tbody>\n",
       "</table>\n",
       "<p>379 rows × 4 columns</p>\n",
       "</div>"
      ],
      "text/plain": [
       "     mean value of x  mean value of y  mean value of Laser Power Current  \\\n",
       "0         -23.114784       -84.830269                        4488.293945   \n",
       "1         -23.101221       -84.829369                        4488.886230   \n",
       "2         -23.112848       -84.828369                        4489.492188   \n",
       "3         -23.100641       -84.843018                        4491.976074   \n",
       "4         -23.125904       -84.842278                        4492.891602   \n",
       "..               ...              ...                                ...   \n",
       "374       -23.098812       -84.815605                        4491.950684   \n",
       "375       -23.113535       -84.828545                        4489.677734   \n",
       "376       -23.100891       -84.841385                        4489.969238   \n",
       "377       -23.112759       -84.883942                        4501.448242   \n",
       "378       -23.144470       -84.860741                        4492.670410   \n",
       "\n",
       "     mean value of Signal_in_a_GaAs  \n",
       "0                       1543.055908  \n",
       "1                       1518.683350  \n",
       "2                       1547.233643  \n",
       "3                       1508.754517  \n",
       "4                       1497.558228  \n",
       "..                              ...  \n",
       "374                     1538.949707  \n",
       "375                     1553.340698  \n",
       "376                     1533.481934  \n",
       "377                     1492.057373  \n",
       "378                     1501.959351  \n",
       "\n",
       "[379 rows x 4 columns]"
      ]
     },
     "execution_count": 25,
     "metadata": {},
     "output_type": "execute_result"
    }
   ],
   "source": [
    "df_combined = pd.concat([df_x, df_y, df_a, df_b], axis=1, join='inner')\n",
    "df_combined"
   ]
  },
  {
   "cell_type": "code",
   "execution_count": 26,
   "metadata": {},
   "outputs": [],
   "source": [
    "corr = df_combined.corr()"
   ]
  },
  {
   "cell_type": "code",
   "execution_count": 27,
   "metadata": {},
   "outputs": [
    {
     "data": {
      "text/plain": [
       "<AxesSubplot:>"
      ]
     },
     "execution_count": 27,
     "metadata": {},
     "output_type": "execute_result"
    },
    {
     "data": {
      "image/png": "[encoded data removed]",
      "text/plain": [
       "<Figure size 1152x576 with 2 Axes>"
      ]
     },
     "metadata": {
      "needs_background": "light"
     },
     "output_type": "display_data"
    }
   ],
   "source": [
    "sns.heatmap(corr)"
   ]
  },
  {
   "cell_type": "markdown",
   "metadata": {},
   "source": [
    "## So it looks like there is actually relatively low correlation between the variables that are changing, but, there seem to be two exceptions: the correlations between the mean value of the Laser Power Current as well as the mean value of the Signal in a GaAs. "
   ]
  },
  {
   "cell_type": "code",
   "execution_count": 31,
   "metadata": {},
   "outputs": [
    {
     "ename": "NameError",
     "evalue": "name 'ax' is not defined",
     "output_type": "error",
     "traceback": [
      "\u001b[1;31m---------------------------------------------------------------------------\u001b[0m",
      "\u001b[1;31mNameError\u001b[0m                                 Traceback (most recent call last)",
      "\u001b[1;32m~\\AppData\\Local\\Temp/ipykernel_9988/806314962.py\u001b[0m in \u001b[0;36m<module>\u001b[1;34m\u001b[0m\n\u001b[0;32m      1\u001b[0m \u001b[0msns\u001b[0m\u001b[1;33m.\u001b[0m\u001b[0mjointplot\u001b[0m\u001b[1;33m(\u001b[0m\u001b[0mx\u001b[0m\u001b[1;33m=\u001b[0m\u001b[1;34m'mean value of Laser Power Current'\u001b[0m\u001b[1;33m,\u001b[0m\u001b[0my\u001b[0m\u001b[1;33m=\u001b[0m\u001b[1;34m'mean value of Signal_in_a_GaAs'\u001b[0m\u001b[1;33m,\u001b[0m\u001b[0mkind\u001b[0m \u001b[1;33m=\u001b[0m \u001b[1;34m\"reg\"\u001b[0m\u001b[1;33m,\u001b[0m\u001b[0mdata\u001b[0m\u001b[1;33m=\u001b[0m\u001b[0mdf_combined\u001b[0m\u001b[1;33m)\u001b[0m\u001b[1;33m\u001b[0m\u001b[1;33m\u001b[0m\u001b[0m\n\u001b[1;32m----> 2\u001b[1;33m \u001b[0max\u001b[0m\u001b[1;33m.\u001b[0m\u001b[0mplot\u001b[0m\u001b[1;33m(\u001b[0m\u001b[1;33m[\u001b[0m\u001b[1;34m'First line'\u001b[0m\u001b[1;33m,\u001b[0m \u001b[1;34m'Second line'\u001b[0m\u001b[1;33m]\u001b[0m\u001b[1;33m)\u001b[0m\u001b[1;33m\u001b[0m\u001b[1;33m\u001b[0m\u001b[0m\n\u001b[0m\u001b[0;32m      3\u001b[0m \u001b[0max\u001b[0m\u001b[1;33m.\u001b[0m\u001b[0mset_xlabel\u001b[0m\u001b[1;33m(\u001b[0m\u001b[0mxlabel\u001b[0m\u001b[1;33m)\u001b[0m\u001b[1;33m\u001b[0m\u001b[1;33m\u001b[0m\u001b[0m\n\u001b[0;32m      4\u001b[0m \u001b[0max\u001b[0m\u001b[1;33m.\u001b[0m\u001b[0mset_ylabel\u001b[0m\u001b[1;33m(\u001b[0m\u001b[0mylabel\u001b[0m\u001b[1;33m)\u001b[0m\u001b[1;33m\u001b[0m\u001b[1;33m\u001b[0m\u001b[0m\n",
      "\u001b[1;31mNameError\u001b[0m: name 'ax' is not defined"
     ]
    },
    {
     "data": {
      "image/png": "[encoded data removed]",
      "text/plain": [
       "<Figure size 432x432 with 3 Axes>"
      ]
     },
     "metadata": {
      "needs_background": "light"
     },
     "output_type": "display_data"
    }
   ],
   "source": [
    "sns.jointplot(x='mean value of Laser Power Current',y='mean value of Signal_in_a_GaAs',kind = \"reg\",data=df_combined)\n",
    "ax.plot(['First line', 'Second line'])\n",
    "ax.set_xlabel(xlabel)\n",
    "ax.set_ylabel(ylabel)\n"
   ]
  },
  {
   "cell_type": "code",
   "execution_count": null,
   "metadata": {},
   "outputs": [],
   "source": [
    "#Result: Two boxplots comparing the anomaly and non-anomaly layers. The results for both layers should be the \n",
    "#four columns of data that are changing. Separate good and bad layers to see if there's any difference in \n",
    "#between those two. "
   ]
  }
 ],
 "metadata": {
  "kernelspec": {
   "display_name": "Python 3 (ipykernel)",
   "language": "python",
   "name": "python3"
  },
  "language_info": {
   "codemirror_mode": {
    "name": "ipython",
    "version": 3
   },
   "file_extension": ".py",
   "mimetype": "text/x-python",
   "name": "python",
   "nbconvert_exporter": "python",
   "pygments_lexer": "ipython3",
   "version": "3.9.7"
  }
 },
 "nbformat": 4,
 "nbformat_minor": 2
}
